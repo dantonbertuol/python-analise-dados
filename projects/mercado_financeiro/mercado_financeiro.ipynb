{
  "cells": [
    {
      "cell_type": "code",
      "execution_count": 5,
      "metadata": {
        "colab": {
          "base_uri": "https://localhost:8080/"
        },
        "id": "8jpDII5rZ2h9",
        "outputId": "a1516426-fcb1-49db-f334-7549ba35b62a"
      },
      "outputs": [
        {
          "name": "stdout",
          "output_type": "stream",
          "text": [
            "Dados salvo no Google Driver\n",
            "https://docs.google.com/spreadsheets/d/1r0_Vs5QX1ef5X1MZCbDg8kcqm-my3rSn/edit?usp=sharing&ouid=108903987275959757465&rtpof=true&sd=true\n"
          ]
        }
      ],
      "source": [
        "# Dados para download\n",
        "Base_Dados_Nesse_Link = 'https://docs.google.com/spreadsheets/d/1r0_Vs5QX1ef5X1MZCbDg8kcqm-my3rSn/edit?usp=sharing&ouid=108903987275959757465&rtpof=true&sd=true'\n",
        "\n",
        "print('Dados salvo no Google Driver')\n",
        "print( Base_Dados_Nesse_Link )"
      ]
    },
    {
      "cell_type": "code",
      "execution_count": 6,
      "metadata": {
        "id": "8z8j2FS0Z805"
      },
      "outputs": [],
      "source": [
        "# Libs Necessárias\n",
        "\n",
        "# Libs para Modelagem e Matrizez\n",
        "import numpy as np\n",
        "import pandas as pd\n",
        "\n",
        "# Libs para anaálises gráficas\n",
        "import matplotlib.pyplot as plt\n",
        "import seaborn as sns\n",
        "import plotly.graph_objects as go\n",
        "\n",
        "# Lib para ignorar avisos\n",
        "import warnings\n",
        "\n",
        "# Desabilitando avisos\n",
        "warnings.filterwarnings('ignore')"
      ]
    },
    {
      "cell_type": "code",
      "execution_count": 7,
      "metadata": {
        "colab": {
          "base_uri": "https://localhost:8080/",
          "height": 206
        },
        "id": "834Ih6XiaIxT",
        "outputId": "c185e1e3-4f98-410e-b54d-32e364a681e2"
      },
      "outputs": [
        {
          "data": {
            "text/html": [
              "<div>\n",
              "<style scoped>\n",
              "    .dataframe tbody tr th:only-of-type {\n",
              "        vertical-align: middle;\n",
              "    }\n",
              "\n",
              "    .dataframe tbody tr th {\n",
              "        vertical-align: top;\n",
              "    }\n",
              "\n",
              "    .dataframe thead th {\n",
              "        text-align: right;\n",
              "    }\n",
              "</style>\n",
              "<table border=\"1\" class=\"dataframe\">\n",
              "  <thead>\n",
              "    <tr style=\"text-align: right;\">\n",
              "      <th></th>\n",
              "      <th>Data</th>\n",
              "      <th>Maior</th>\n",
              "      <th>Menor</th>\n",
              "      <th>Abertura</th>\n",
              "      <th>Fechamento</th>\n",
              "      <th>Volume</th>\n",
              "      <th>Adj Close</th>\n",
              "    </tr>\n",
              "  </thead>\n",
              "  <tbody>\n",
              "    <tr>\n",
              "      <th>0</th>\n",
              "      <td>2021-01-04</td>\n",
              "      <td>25.580000</td>\n",
              "      <td>24.870001</td>\n",
              "      <td>25.260000</td>\n",
              "      <td>25.200001</td>\n",
              "      <td>25706100</td>\n",
              "      <td>25.181740</td>\n",
              "    </tr>\n",
              "    <tr>\n",
              "      <th>1</th>\n",
              "      <td>2021-01-05</td>\n",
              "      <td>25.180000</td>\n",
              "      <td>24.340000</td>\n",
              "      <td>25.100000</td>\n",
              "      <td>24.760000</td>\n",
              "      <td>25431900</td>\n",
              "      <td>24.742058</td>\n",
              "    </tr>\n",
              "    <tr>\n",
              "      <th>2</th>\n",
              "      <td>2021-01-06</td>\n",
              "      <td>24.660000</td>\n",
              "      <td>23.420000</td>\n",
              "      <td>24.650000</td>\n",
              "      <td>23.459999</td>\n",
              "      <td>51799000</td>\n",
              "      <td>23.442999</td>\n",
              "    </tr>\n",
              "    <tr>\n",
              "      <th>3</th>\n",
              "      <td>2021-01-07</td>\n",
              "      <td>23.850000</td>\n",
              "      <td>22.950001</td>\n",
              "      <td>23.639999</td>\n",
              "      <td>23.160000</td>\n",
              "      <td>42146600</td>\n",
              "      <td>23.143217</td>\n",
              "    </tr>\n",
              "    <tr>\n",
              "      <th>4</th>\n",
              "      <td>2021-01-08</td>\n",
              "      <td>24.299999</td>\n",
              "      <td>23.020000</td>\n",
              "      <td>23.190001</td>\n",
              "      <td>23.840000</td>\n",
              "      <td>43988100</td>\n",
              "      <td>23.822723</td>\n",
              "    </tr>\n",
              "  </tbody>\n",
              "</table>\n",
              "</div>"
            ],
            "text/plain": [
              "        Data      Maior      Menor   Abertura  Fechamento    Volume  Adj Close\n",
              "0 2021-01-04  25.580000  24.870001  25.260000   25.200001  25706100  25.181740\n",
              "1 2021-01-05  25.180000  24.340000  25.100000   24.760000  25431900  24.742058\n",
              "2 2021-01-06  24.660000  23.420000  24.650000   23.459999  51799000  23.442999\n",
              "3 2021-01-07  23.850000  22.950001  23.639999   23.160000  42146600  23.143217\n",
              "4 2021-01-08  24.299999  23.020000  23.190001   23.840000  43988100  23.822723"
            ]
          },
          "execution_count": 7,
          "metadata": {},
          "output_type": "execute_result"
        }
      ],
      "source": [
        "# Lendo os dados\n",
        "Base_Dados = pd.read_excel('Vase_004 - Magalu - Sem Resolução.xlsx')\n",
        "\n",
        "# Verificando\n",
        "Base_Dados.head()"
      ]
    },
    {
      "cell_type": "code",
      "execution_count": 8,
      "metadata": {
        "colab": {
          "base_uri": "https://localhost:8080/"
        },
        "id": "UIN20LYFaNeF",
        "outputId": "8d81f411-2ca7-45e0-f64c-d0499d02de7f"
      },
      "outputs": [
        {
          "data": {
            "text/plain": [
              "(247, 7)"
            ]
          },
          "execution_count": 8,
          "metadata": {},
          "output_type": "execute_result"
        }
      ],
      "source": [
        "Base_Dados.shape"
      ]
    },
    {
      "cell_type": "code",
      "execution_count": 9,
      "metadata": {
        "colab": {
          "base_uri": "https://localhost:8080/"
        },
        "id": "Mnrwe7UsasTR",
        "outputId": "3f566233-6708-4eff-85bc-85905ff15ef9"
      },
      "outputs": [
        {
          "name": "stdout",
          "output_type": "stream",
          "text": [
            "<class 'pandas.core.frame.DataFrame'>\n",
            "RangeIndex: 247 entries, 0 to 246\n",
            "Data columns (total 7 columns):\n",
            " #   Column      Non-Null Count  Dtype         \n",
            "---  ------      --------------  -----         \n",
            " 0   Data        247 non-null    datetime64[ns]\n",
            " 1   Maior       247 non-null    float64       \n",
            " 2   Menor       247 non-null    float64       \n",
            " 3   Abertura    247 non-null    float64       \n",
            " 4   Fechamento  247 non-null    float64       \n",
            " 5   Volume      247 non-null    int64         \n",
            " 6   Adj Close   247 non-null    float64       \n",
            "dtypes: datetime64[ns](1), float64(5), int64(1)\n",
            "memory usage: 13.6 KB\n"
          ]
        }
      ],
      "source": [
        "Base_Dados.info()"
      ]
    },
    {
      "cell_type": "code",
      "execution_count": 10,
      "metadata": {
        "colab": {
          "base_uri": "https://localhost:8080/",
          "height": 300
        },
        "id": "JUbs0QBZauxU",
        "outputId": "70a4bc0b-1e89-43ba-b4b0-a006ca44ab6b"
      },
      "outputs": [
        {
          "data": {
            "text/html": [
              "<div>\n",
              "<style scoped>\n",
              "    .dataframe tbody tr th:only-of-type {\n",
              "        vertical-align: middle;\n",
              "    }\n",
              "\n",
              "    .dataframe tbody tr th {\n",
              "        vertical-align: top;\n",
              "    }\n",
              "\n",
              "    .dataframe thead th {\n",
              "        text-align: right;\n",
              "    }\n",
              "</style>\n",
              "<table border=\"1\" class=\"dataframe\">\n",
              "  <thead>\n",
              "    <tr style=\"text-align: right;\">\n",
              "      <th></th>\n",
              "      <th>Maior</th>\n",
              "      <th>Menor</th>\n",
              "      <th>Abertura</th>\n",
              "      <th>Fechamento</th>\n",
              "      <th>Volume</th>\n",
              "      <th>Adj Close</th>\n",
              "    </tr>\n",
              "  </thead>\n",
              "  <tbody>\n",
              "    <tr>\n",
              "      <th>count</th>\n",
              "      <td>247.000000</td>\n",
              "      <td>247.000000</td>\n",
              "      <td>247.000000</td>\n",
              "      <td>247.000000</td>\n",
              "      <td>2.470000e+02</td>\n",
              "      <td>247.000000</td>\n",
              "    </tr>\n",
              "    <tr>\n",
              "      <th>mean</th>\n",
              "      <td>18.977530</td>\n",
              "      <td>18.205668</td>\n",
              "      <td>18.629717</td>\n",
              "      <td>18.549555</td>\n",
              "      <td>4.536056e+07</td>\n",
              "      <td>18.541389</td>\n",
              "    </tr>\n",
              "    <tr>\n",
              "      <th>std</th>\n",
              "      <td>5.632712</td>\n",
              "      <td>5.567061</td>\n",
              "      <td>5.602659</td>\n",
              "      <td>5.637050</td>\n",
              "      <td>4.082594e+07</td>\n",
              "      <td>5.631316</td>\n",
              "    </tr>\n",
              "    <tr>\n",
              "      <th>min</th>\n",
              "      <td>6.200000</td>\n",
              "      <td>5.620000</td>\n",
              "      <td>5.710000</td>\n",
              "      <td>5.740000</td>\n",
              "      <td>8.716100e+06</td>\n",
              "      <td>5.740000</td>\n",
              "    </tr>\n",
              "    <tr>\n",
              "      <th>25%</th>\n",
              "      <td>15.010000</td>\n",
              "      <td>14.275000</td>\n",
              "      <td>14.705000</td>\n",
              "      <td>14.555000</td>\n",
              "      <td>2.285200e+07</td>\n",
              "      <td>14.555000</td>\n",
              "    </tr>\n",
              "    <tr>\n",
              "      <th>50%</th>\n",
              "      <td>20.650000</td>\n",
              "      <td>19.930000</td>\n",
              "      <td>20.280001</td>\n",
              "      <td>20.270000</td>\n",
              "      <td>3.130900e+07</td>\n",
              "      <td>20.255312</td>\n",
              "    </tr>\n",
              "    <tr>\n",
              "      <th>75%</th>\n",
              "      <td>22.595000</td>\n",
              "      <td>21.985001</td>\n",
              "      <td>22.375000</td>\n",
              "      <td>22.200001</td>\n",
              "      <td>4.742785e+07</td>\n",
              "      <td>22.183912</td>\n",
              "    </tr>\n",
              "    <tr>\n",
              "      <th>max</th>\n",
              "      <td>27.070000</td>\n",
              "      <td>25.900000</td>\n",
              "      <td>26.250000</td>\n",
              "      <td>26.240000</td>\n",
              "      <td>2.578313e+08</td>\n",
              "      <td>26.220984</td>\n",
              "    </tr>\n",
              "  </tbody>\n",
              "</table>\n",
              "</div>"
            ],
            "text/plain": [
              "            Maior       Menor    Abertura  Fechamento        Volume  \\\n",
              "count  247.000000  247.000000  247.000000  247.000000  2.470000e+02   \n",
              "mean    18.977530   18.205668   18.629717   18.549555  4.536056e+07   \n",
              "std      5.632712    5.567061    5.602659    5.637050  4.082594e+07   \n",
              "min      6.200000    5.620000    5.710000    5.740000  8.716100e+06   \n",
              "25%     15.010000   14.275000   14.705000   14.555000  2.285200e+07   \n",
              "50%     20.650000   19.930000   20.280001   20.270000  3.130900e+07   \n",
              "75%     22.595000   21.985001   22.375000   22.200001  4.742785e+07   \n",
              "max     27.070000   25.900000   26.250000   26.240000  2.578313e+08   \n",
              "\n",
              "        Adj Close  \n",
              "count  247.000000  \n",
              "mean    18.541389  \n",
              "std      5.631316  \n",
              "min      5.740000  \n",
              "25%     14.555000  \n",
              "50%     20.255312  \n",
              "75%     22.183912  \n",
              "max     26.220984  "
            ]
          },
          "execution_count": 10,
          "metadata": {},
          "output_type": "execute_result"
        }
      ],
      "source": [
        "Base_Dados.describe()"
      ]
    },
    {
      "cell_type": "code",
      "execution_count": 11,
      "metadata": {
        "colab": {
          "base_uri": "https://localhost:8080/",
          "height": 238
        },
        "id": "RM4c9eIIazUf",
        "outputId": "4f3f254f-5782-4df7-b910-b7a5014b50a7"
      },
      "outputs": [
        {
          "data": {
            "text/html": [
              "<div>\n",
              "<style scoped>\n",
              "    .dataframe tbody tr th:only-of-type {\n",
              "        vertical-align: middle;\n",
              "    }\n",
              "\n",
              "    .dataframe tbody tr th {\n",
              "        vertical-align: top;\n",
              "    }\n",
              "\n",
              "    .dataframe thead th {\n",
              "        text-align: right;\n",
              "    }\n",
              "</style>\n",
              "<table border=\"1\" class=\"dataframe\">\n",
              "  <thead>\n",
              "    <tr style=\"text-align: right;\">\n",
              "      <th></th>\n",
              "      <th>Maior</th>\n",
              "      <th>Menor</th>\n",
              "      <th>Abertura</th>\n",
              "      <th>Fechamento</th>\n",
              "      <th>Volume</th>\n",
              "      <th>Adj Close</th>\n",
              "    </tr>\n",
              "    <tr>\n",
              "      <th>Data</th>\n",
              "      <th></th>\n",
              "      <th></th>\n",
              "      <th></th>\n",
              "      <th></th>\n",
              "      <th></th>\n",
              "      <th></th>\n",
              "    </tr>\n",
              "  </thead>\n",
              "  <tbody>\n",
              "    <tr>\n",
              "      <th>2021-01-04</th>\n",
              "      <td>25.580000</td>\n",
              "      <td>24.870001</td>\n",
              "      <td>25.260000</td>\n",
              "      <td>25.200001</td>\n",
              "      <td>25706100</td>\n",
              "      <td>25.181740</td>\n",
              "    </tr>\n",
              "    <tr>\n",
              "      <th>2021-01-05</th>\n",
              "      <td>25.180000</td>\n",
              "      <td>24.340000</td>\n",
              "      <td>25.100000</td>\n",
              "      <td>24.760000</td>\n",
              "      <td>25431900</td>\n",
              "      <td>24.742058</td>\n",
              "    </tr>\n",
              "    <tr>\n",
              "      <th>2021-01-06</th>\n",
              "      <td>24.660000</td>\n",
              "      <td>23.420000</td>\n",
              "      <td>24.650000</td>\n",
              "      <td>23.459999</td>\n",
              "      <td>51799000</td>\n",
              "      <td>23.442999</td>\n",
              "    </tr>\n",
              "    <tr>\n",
              "      <th>2021-01-07</th>\n",
              "      <td>23.850000</td>\n",
              "      <td>22.950001</td>\n",
              "      <td>23.639999</td>\n",
              "      <td>23.160000</td>\n",
              "      <td>42146600</td>\n",
              "      <td>23.143217</td>\n",
              "    </tr>\n",
              "    <tr>\n",
              "      <th>2021-01-08</th>\n",
              "      <td>24.299999</td>\n",
              "      <td>23.020000</td>\n",
              "      <td>23.190001</td>\n",
              "      <td>23.840000</td>\n",
              "      <td>43988100</td>\n",
              "      <td>23.822723</td>\n",
              "    </tr>\n",
              "  </tbody>\n",
              "</table>\n",
              "</div>"
            ],
            "text/plain": [
              "                Maior      Menor   Abertura  Fechamento    Volume  Adj Close\n",
              "Data                                                                        \n",
              "2021-01-04  25.580000  24.870001  25.260000   25.200001  25706100  25.181740\n",
              "2021-01-05  25.180000  24.340000  25.100000   24.760000  25431900  24.742058\n",
              "2021-01-06  24.660000  23.420000  24.650000   23.459999  51799000  23.442999\n",
              "2021-01-07  23.850000  22.950001  23.639999   23.160000  42146600  23.143217\n",
              "2021-01-08  24.299999  23.020000  23.190001   23.840000  43988100  23.822723"
            ]
          },
          "execution_count": 11,
          "metadata": {},
          "output_type": "execute_result"
        }
      ],
      "source": [
        "# Series Temporais\n",
        "Dados = Base_Dados.set_index('Data')\n",
        "\n",
        "Dados.head()"
      ]
    },
    {
      "cell_type": "code",
      "execution_count": 12,
      "metadata": {
        "colab": {
          "base_uri": "https://localhost:8080/",
          "height": 347
        },
        "id": "rnTeeohdbLK8",
        "outputId": "1e973d7e-0f53-4792-b26f-26285e826c44"
      },
      "outputs": [
        {
          "data": {
            "image/png": "[encoded data removed]",
            "text/plain": [
              "<Figure size 1600x500 with 1 Axes>"
            ]
          },
          "metadata": {},
          "output_type": "display_data"
        }
      ],
      "source": [
        "plt.style.use('seaborn-darkgrid')\n",
        "plt.figure( figsize=(16, 5) )\n",
        "plt.title('Análise das ações da magalu - Fechamento', fontsize=15, loc='left')\n",
        "plt.plot( Dados.index, Dados['Fechamento'] )\n",
        "\n",
        "plt.xlabel('Período da Coração')\n",
        "plt.ylabel('Valor da Ação (R$)');"
      ]
    },
    {
      "cell_type": "code",
      "execution_count": 13,
      "metadata": {
        "colab": {
          "base_uri": "https://localhost:8080/",
          "height": 238
        },
        "id": "KsKweOFIbRlX",
        "outputId": "1253ece5-1628-4112-f93c-5bc1b01036e2"
      },
      "outputs": [
        {
          "data": {
            "text/html": [
              "<div>\n",
              "<style scoped>\n",
              "    .dataframe tbody tr th:only-of-type {\n",
              "        vertical-align: middle;\n",
              "    }\n",
              "\n",
              "    .dataframe tbody tr th {\n",
              "        vertical-align: top;\n",
              "    }\n",
              "\n",
              "    .dataframe thead th {\n",
              "        text-align: right;\n",
              "    }\n",
              "</style>\n",
              "<table border=\"1\" class=\"dataframe\">\n",
              "  <thead>\n",
              "    <tr style=\"text-align: right;\">\n",
              "      <th></th>\n",
              "      <th>Maior</th>\n",
              "      <th>Menor</th>\n",
              "      <th>Abertura</th>\n",
              "      <th>Fechamento</th>\n",
              "      <th>Volume</th>\n",
              "      <th>Adj Close</th>\n",
              "    </tr>\n",
              "    <tr>\n",
              "      <th>Data</th>\n",
              "      <th></th>\n",
              "      <th></th>\n",
              "      <th></th>\n",
              "      <th></th>\n",
              "      <th></th>\n",
              "      <th></th>\n",
              "    </tr>\n",
              "  </thead>\n",
              "  <tbody>\n",
              "    <tr>\n",
              "      <th>2021-12-23</th>\n",
              "      <td>6.34</td>\n",
              "      <td>5.99</td>\n",
              "      <td>6.22</td>\n",
              "      <td>6.20</td>\n",
              "      <td>97106100</td>\n",
              "      <td>6.20</td>\n",
              "    </tr>\n",
              "    <tr>\n",
              "      <th>2021-12-27</th>\n",
              "      <td>6.78</td>\n",
              "      <td>6.23</td>\n",
              "      <td>6.23</td>\n",
              "      <td>6.78</td>\n",
              "      <td>124279800</td>\n",
              "      <td>6.78</td>\n",
              "    </tr>\n",
              "    <tr>\n",
              "      <th>2021-12-28</th>\n",
              "      <td>6.96</td>\n",
              "      <td>6.64</td>\n",
              "      <td>6.79</td>\n",
              "      <td>6.83</td>\n",
              "      <td>165573900</td>\n",
              "      <td>6.83</td>\n",
              "    </tr>\n",
              "    <tr>\n",
              "      <th>2021-12-29</th>\n",
              "      <td>6.90</td>\n",
              "      <td>6.70</td>\n",
              "      <td>6.84</td>\n",
              "      <td>6.76</td>\n",
              "      <td>79247400</td>\n",
              "      <td>6.76</td>\n",
              "    </tr>\n",
              "    <tr>\n",
              "      <th>2021-12-30</th>\n",
              "      <td>7.41</td>\n",
              "      <td>6.77</td>\n",
              "      <td>6.80</td>\n",
              "      <td>7.22</td>\n",
              "      <td>180329400</td>\n",
              "      <td>7.22</td>\n",
              "    </tr>\n",
              "  </tbody>\n",
              "</table>\n",
              "</div>"
            ],
            "text/plain": [
              "            Maior  Menor  Abertura  Fechamento     Volume  Adj Close\n",
              "Data                                                                \n",
              "2021-12-23   6.34   5.99      6.22        6.20   97106100       6.20\n",
              "2021-12-27   6.78   6.23      6.23        6.78  124279800       6.78\n",
              "2021-12-28   6.96   6.64      6.79        6.83  165573900       6.83\n",
              "2021-12-29   6.90   6.70      6.84        6.76   79247400       6.76\n",
              "2021-12-30   7.41   6.77      6.80        7.22  180329400       7.22"
            ]
          },
          "execution_count": 13,
          "metadata": {},
          "output_type": "execute_result"
        }
      ],
      "source": [
        "Dados.tail()"
      ]
    },
    {
      "cell_type": "code",
      "execution_count": 14,
      "metadata": {
        "colab": {
          "base_uri": "https://localhost:8080/",
          "height": 347
        },
        "id": "v-hLlSWncHXm",
        "outputId": "aa662088-e5d6-4b92-e3f9-1b7afd7d85c8"
      },
      "outputs": [
        {
          "data": {
            "image/png": "[encoded data removed]",
            "text/plain": [
              "<Figure size 1600x500 with 1 Axes>"
            ]
          },
          "metadata": {},
          "output_type": "display_data"
        }
      ],
      "source": [
        "Media_Movel = Dados['Fechamento'].rolling(5).mean()\n",
        "Media_Tendencia = Dados['Fechamento'].rolling(30).mean()\n",
        "\n",
        "plt.style.use('seaborn-darkgrid')\n",
        "plt.figure( figsize=(16, 5) )\n",
        "plt.title('Análise das ações da magalu - Fechamento', fontsize=15, loc='left')\n",
        "\n",
        "plt.plot( Dados.index, Dados['Fechamento'] )\n",
        "plt.plot( Dados.index, Media_Movel )\n",
        "plt.plot( Dados.index, Media_Tendencia )\n",
        "\n",
        "plt.xlabel('Período da Coração')\n",
        "plt.ylabel('Valor da Ação (R$)');"
      ]
    },
    {
      "cell_type": "code",
      "execution_count": 15,
      "metadata": {
        "colab": {
          "base_uri": "https://localhost:8080/",
          "height": 293
        },
        "id": "v3mRnIAMchJb",
        "outputId": "67dea8bb-0721-4666-e427-4e2fe39199f4"
      },
      "outputs": [
        {
          "data": {
            "text/plain": [
              "<AxesSubplot:xlabel='Fechamento'>"
            ]
          },
          "execution_count": 15,
          "metadata": {},
          "output_type": "execute_result"
        },
        {
          "data": {
            "image/png": "[encoded data removed]",
            "text/plain": [
              "<Figure size 640x480 with 1 Axes>"
            ]
          },
          "metadata": {},
          "output_type": "display_data"
        }
      ],
      "source": [
        "sns.boxplot( data=Dados, x='Fechamento')"
      ]
    },
    {
      "cell_type": "code",
      "execution_count": 16,
      "metadata": {
        "colab": {
          "base_uri": "https://localhost:8080/",
          "height": 330
        },
        "id": "Q_GNGFAIdeUa",
        "outputId": "cdcf5022-c55d-49dc-ca32-0c2ba0eb231b"
      },
      "outputs": [
        {
          "data": {
            "image/png": "[encoded data removed]",
            "text/plain": [
              "<Figure size 1600x500 with 1 Axes>"
            ]
          },
          "metadata": {},
          "output_type": "display_data"
        }
      ],
      "source": [
        "# Boxplot Mensal \n",
        "\n",
        "Base_Dados['Mes'] = Base_Dados['Data'].dt.month\n",
        "\n",
        "plt.figure( figsize=(16, 5) )\n",
        "sns.boxplot( data=Base_Dados, x='Mes', y='Fechamento' );"
      ]
    },
    {
      "cell_type": "code",
      "execution_count": 17,
      "metadata": {
        "colab": {
          "base_uri": "https://localhost:8080/",
          "height": 457
        },
        "id": "zXkuizARdrGf",
        "outputId": "3bd4c413-d3af-4212-aa37-ef7b6e904429"
      },
      "outputs": [
        {
          "data": {
            "text/html": [
              "<div>\n",
              "<style scoped>\n",
              "    .dataframe tbody tr th:only-of-type {\n",
              "        vertical-align: middle;\n",
              "    }\n",
              "\n",
              "    .dataframe tbody tr th {\n",
              "        vertical-align: top;\n",
              "    }\n",
              "\n",
              "    .dataframe thead th {\n",
              "        text-align: right;\n",
              "    }\n",
              "</style>\n",
              "<table border=\"1\" class=\"dataframe\">\n",
              "  <thead>\n",
              "    <tr style=\"text-align: right;\">\n",
              "      <th></th>\n",
              "      <th>count</th>\n",
              "      <th>mean</th>\n",
              "      <th>std</th>\n",
              "      <th>min</th>\n",
              "      <th>25%</th>\n",
              "      <th>50%</th>\n",
              "      <th>75%</th>\n",
              "      <th>max</th>\n",
              "    </tr>\n",
              "    <tr>\n",
              "      <th>Mes</th>\n",
              "      <th></th>\n",
              "      <th></th>\n",
              "      <th></th>\n",
              "      <th></th>\n",
              "      <th></th>\n",
              "      <th></th>\n",
              "      <th></th>\n",
              "      <th></th>\n",
              "    </tr>\n",
              "  </thead>\n",
              "  <tbody>\n",
              "    <tr>\n",
              "      <th>1</th>\n",
              "      <td>19.0</td>\n",
              "      <td>24.644737</td>\n",
              "      <td>0.960280</td>\n",
              "      <td>23.160000</td>\n",
              "      <td>23.900000</td>\n",
              "      <td>24.450001</td>\n",
              "      <td>25.455000</td>\n",
              "      <td>26.190001</td>\n",
              "    </tr>\n",
              "    <tr>\n",
              "      <th>2</th>\n",
              "      <td>18.0</td>\n",
              "      <td>25.208889</td>\n",
              "      <td>0.656021</td>\n",
              "      <td>24.049999</td>\n",
              "      <td>24.877501</td>\n",
              "      <td>25.299999</td>\n",
              "      <td>25.650000</td>\n",
              "      <td>26.240000</td>\n",
              "    </tr>\n",
              "    <tr>\n",
              "      <th>3</th>\n",
              "      <td>23.0</td>\n",
              "      <td>22.855217</td>\n",
              "      <td>1.976698</td>\n",
              "      <td>19.650000</td>\n",
              "      <td>20.940001</td>\n",
              "      <td>23.389999</td>\n",
              "      <td>24.559999</td>\n",
              "      <td>25.440001</td>\n",
              "    </tr>\n",
              "    <tr>\n",
              "      <th>4</th>\n",
              "      <td>20.0</td>\n",
              "      <td>21.249000</td>\n",
              "      <td>0.735297</td>\n",
              "      <td>20.030001</td>\n",
              "      <td>20.560000</td>\n",
              "      <td>21.625000</td>\n",
              "      <td>21.760000</td>\n",
              "      <td>22.200001</td>\n",
              "    </tr>\n",
              "    <tr>\n",
              "      <th>5</th>\n",
              "      <td>21.0</td>\n",
              "      <td>19.430476</td>\n",
              "      <td>0.564973</td>\n",
              "      <td>18.530001</td>\n",
              "      <td>18.969999</td>\n",
              "      <td>19.459999</td>\n",
              "      <td>19.900000</td>\n",
              "      <td>20.250000</td>\n",
              "    </tr>\n",
              "    <tr>\n",
              "      <th>6</th>\n",
              "      <td>21.0</td>\n",
              "      <td>20.898095</td>\n",
              "      <td>0.463116</td>\n",
              "      <td>20.270000</td>\n",
              "      <td>20.500000</td>\n",
              "      <td>20.889999</td>\n",
              "      <td>21.270000</td>\n",
              "      <td>21.670000</td>\n",
              "    </tr>\n",
              "    <tr>\n",
              "      <th>7</th>\n",
              "      <td>21.0</td>\n",
              "      <td>22.232857</td>\n",
              "      <td>0.977574</td>\n",
              "      <td>20.600000</td>\n",
              "      <td>21.530001</td>\n",
              "      <td>22.040001</td>\n",
              "      <td>23.120001</td>\n",
              "      <td>23.900000</td>\n",
              "    </tr>\n",
              "    <tr>\n",
              "      <th>8</th>\n",
              "      <td>22.0</td>\n",
              "      <td>19.656818</td>\n",
              "      <td>0.885827</td>\n",
              "      <td>18.129999</td>\n",
              "      <td>18.897500</td>\n",
              "      <td>19.485000</td>\n",
              "      <td>20.452499</td>\n",
              "      <td>20.969999</td>\n",
              "    </tr>\n",
              "    <tr>\n",
              "      <th>9</th>\n",
              "      <td>21.0</td>\n",
              "      <td>16.746191</td>\n",
              "      <td>1.628581</td>\n",
              "      <td>13.940000</td>\n",
              "      <td>15.870000</td>\n",
              "      <td>16.570000</td>\n",
              "      <td>18.010000</td>\n",
              "      <td>19.480000</td>\n",
              "    </tr>\n",
              "    <tr>\n",
              "      <th>10</th>\n",
              "      <td>20.0</td>\n",
              "      <td>13.350000</td>\n",
              "      <td>1.267667</td>\n",
              "      <td>10.810000</td>\n",
              "      <td>12.392500</td>\n",
              "      <td>13.720000</td>\n",
              "      <td>14.400000</td>\n",
              "      <td>14.970000</td>\n",
              "    </tr>\n",
              "    <tr>\n",
              "      <th>11</th>\n",
              "      <td>20.0</td>\n",
              "      <td>10.269000</td>\n",
              "      <td>1.892355</td>\n",
              "      <td>7.800000</td>\n",
              "      <td>8.790000</td>\n",
              "      <td>9.505000</td>\n",
              "      <td>11.645000</td>\n",
              "      <td>13.650000</td>\n",
              "    </tr>\n",
              "    <tr>\n",
              "      <th>12</th>\n",
              "      <td>21.0</td>\n",
              "      <td>6.609048</td>\n",
              "      <td>0.461486</td>\n",
              "      <td>5.740000</td>\n",
              "      <td>6.280000</td>\n",
              "      <td>6.660000</td>\n",
              "      <td>6.830000</td>\n",
              "      <td>7.620000</td>\n",
              "    </tr>\n",
              "  </tbody>\n",
              "</table>\n",
              "</div>"
            ],
            "text/plain": [
              "     count       mean       std        min        25%        50%        75%  \\\n",
              "Mes                                                                           \n",
              "1     19.0  24.644737  0.960280  23.160000  23.900000  24.450001  25.455000   \n",
              "2     18.0  25.208889  0.656021  24.049999  24.877501  25.299999  25.650000   \n",
              "3     23.0  22.855217  1.976698  19.650000  20.940001  23.389999  24.559999   \n",
              "4     20.0  21.249000  0.735297  20.030001  20.560000  21.625000  21.760000   \n",
              "5     21.0  19.430476  0.564973  18.530001  18.969999  19.459999  19.900000   \n",
              "6     21.0  20.898095  0.463116  20.270000  20.500000  20.889999  21.270000   \n",
              "7     21.0  22.232857  0.977574  20.600000  21.530001  22.040001  23.120001   \n",
              "8     22.0  19.656818  0.885827  18.129999  18.897500  19.485000  20.452499   \n",
              "9     21.0  16.746191  1.628581  13.940000  15.870000  16.570000  18.010000   \n",
              "10    20.0  13.350000  1.267667  10.810000  12.392500  13.720000  14.400000   \n",
              "11    20.0  10.269000  1.892355   7.800000   8.790000   9.505000  11.645000   \n",
              "12    21.0   6.609048  0.461486   5.740000   6.280000   6.660000   6.830000   \n",
              "\n",
              "           max  \n",
              "Mes             \n",
              "1    26.190001  \n",
              "2    26.240000  \n",
              "3    25.440001  \n",
              "4    22.200001  \n",
              "5    20.250000  \n",
              "6    21.670000  \n",
              "7    23.900000  \n",
              "8    20.969999  \n",
              "9    19.480000  \n",
              "10   14.970000  \n",
              "11   13.650000  \n",
              "12    7.620000  "
            ]
          },
          "execution_count": 17,
          "metadata": {},
          "output_type": "execute_result"
        }
      ],
      "source": [
        "Base_Dados.groupby(['Mes']).describe()['Fechamento']"
      ]
    },
    {
      "cell_type": "code",
      "execution_count": 19,
      "metadata": {
        "colab": {
          "base_uri": "https://localhost:8080/",
          "height": 542
        },
        "id": "PksesCJreQSH",
        "outputId": "0952fbbf-6c13-4742-c75c-3b5cde5e2cae"
      },
      "outputs": [
        {
          "data": {
            "application/vnd.plotly.v1+json": {
              "config": {
                "plotlyServerURL": "https://plot.ly"
              },
              "data": [
                {
                  "close": [
                    25.20000076293945,
                    24.76000022888184,
                    23.45999908447266,
                    23.15999984741211,
                    23.84000015258789,
                    23.48999977111816,
                    24.20000076293945,
                    24.02000045776367,
                    23.72999954223633,
                    23.95999908447266,
                    24.45000076293945,
                    24.07999992370605,
                    25.42000007629395,
                    25.48999977111816,
                    25.98999977111816,
                    25.75,
                    25.79000091552734,
                    26.19000053405762,
                    25.27000045776367,
                    24.93000030517578,
                    25.29999923706055,
                    25.64999961853027,
                    25.30999946594238,
                    25.85000038146973,
                    26.15999984741211,
                    26.23999977111816,
                    25.29999923706055,
                    25.64999961853027,
                    25.90999984741211,
                    25.5,
                    25.04000091552734,
                    24.94000053405762,
                    24.25,
                    24.86000061035156,
                    24.63999938964844,
                    24.04999923706055,
                    24.18000030517578,
                    24.54999923706055,
                    24.27000045776367,
                    25.1200008392334,
                    25.44000053405762,
                    25.1299991607666,
                    23.10000038146973,
                    23.38999938964844,
                    24.89999961853027,
                    24.79999923706055,
                    24.56999969482422,
                    23.71999931335449,
                    24.14999961853027,
                    23.94000053405762,
                    22.28000068664551,
                    22.29000091552734,
                    21.90999984741211,
                    21.51000022888184,
                    20.3700008392334,
                    20.29999923706055,
                    19.97999954223633,
                    19.64999961853027,
                    20.05999946594238,
                    20.23999977111816,
                    20.44000053405762,
                    20.42000007629395,
                    20.60000038146973,
                    20.18000030517578,
                    21.85000038146973,
                    21.67000007629395,
                    21.64999961853027,
                    22.20000076293945,
                    22.1200008392334,
                    22.20000076293945,
                    21.92000007629395,
                    21.64999961853027,
                    21.60000038146973,
                    21.14999961853027,
                    21.72999954223633,
                    21.70999908447266,
                    20.95000076293945,
                    20.64999961853027,
                    20.26000022888184,
                    20.03000068664551,
                    20.18000030517578,
                    19.75,
                    19.89999961853027,
                    19.45999908447266,
                    19.88999938964844,
                    19.20000076293945,
                    19.31999969482422,
                    18.59000015258789,
                    19.1299991607666,
                    19.14999961853027,
                    18.86000061035156,
                    18.96999931335449,
                    18.68000030517578,
                    18.73999977111816,
                    18.53000068664551,
                    20,
                    20.02000045776367,
                    19.67000007629395,
                    19.59000015258789,
                    20.25,
                    20.15999984741211,
                    20.35000038146973,
                    20.5,
                    20.85000038146973,
                    20.79999923706055,
                    21.04999923706055,
                    20.27000045776367,
                    20.28000068664551,
                    20.3799991607666,
                    20.59000015258789,
                    20.88999938964844,
                    20.30999946594238,
                    21.30999946594238,
                    21.06999969482422,
                    21.27000045776367,
                    20.96999931335449,
                    20.57999992370605,
                    21.64999961853027,
                    21.38999938964844,
                    21.53000068664551,
                    21.67000007629395,
                    21.14999961853027,
                    20.69000053405762,
                    21.63999938964844,
                    21.3799991607666,
                    21.06999969482422,
                    22.01000022888184,
                    21.92000007629395,
                    22.10000038146973,
                    22.48999977111816,
                    22.93000030517578,
                    23.71999931335449,
                    23.89999961853027,
                    23.1200008392334,
                    23.3700008392334,
                    23.36000061035156,
                    23.25,
                    22.60000038146973,
                    22.04000091552734,
                    21.45000076293945,
                    21.53000068664551,
                    21.71999931335449,
                    20.60000038146973,
                    20.6299991607666,
                    20.43000030517578,
                    19.95999908447266,
                    20.45999908447266,
                    20.68000030517578,
                    20.48999977111816,
                    20.39999961853027,
                    20.90999984741211,
                    20.96999931335449,
                    20.27000045776367,
                    19.42000007629395,
                    19.30999946594238,
                    18.84000015258789,
                    18.95000076293945,
                    18.86000061035156,
                    18.1299991607666,
                    19.23999977111816,
                    19.54999923706055,
                    18.79999923706055,
                    19.03000068664551,
                    18.8799991607666,
                    18.23999977111816,
                    18.68000030517578,
                    18.01000022888184,
                    18.89999961853027,
                    19.47999954223633,
                    18.79000091552734,
                    18.85000038146973,
                    17.18000030517578,
                    17.44000053405762,
                    17.03000068664551,
                    16.6200008392334,
                    16.3700008392334,
                    16.56999969482422,
                    16.04999923706055,
                    16.38999938964844,
                    16.34000015258789,
                    15.86999988555908,
                    15.63000011444092,
                    15.01000022888184,
                    14.18000030517578,
                    13.9399995803833,
                    14.34000015258789,
                    14.55000019073486,
                    13.71000003814697,
                    13.68000030517578,
                    14.46000003814697,
                    14.02999973297119,
                    14.97000026702881,
                    14.38000011444092,
                    14.5,
                    14.17000007629395,
                    14.5600004196167,
                    14.27999973297119,
                    13.72999954223633,
                    13.27000045776367,
                    12.40999984741211,
                    12.42000007629395,
                    12.34000015258789,
                    11.97999954223633,
                    11.60000038146973,
                    11.14999961853027,
                    10.8100004196167,
                    11.30000019073486,
                    11.55000019073486,
                    11.07999992370605,
                    12.4399995803833,
                    11.93000030517578,
                    13.13000011444092,
                    13.02000045776367,
                    13.64999961853027,
                    11.14999961853027,
                    9.739999771118164,
                    9.270000457763672,
                    8.989999771118164,
                    9.270000457763672,
                    8.84000015258789,
                    8.600000381469727,
                    8.819999694824219,
                    8.699999809265137,
                    8.0600004196167,
                    8.039999961853027,
                    7.800000190734863,
                    6.880000114440918,
                    6.760000228881836,
                    7.050000190734863,
                    7.300000190734863,
                    7.619999885559082,
                    6.809999942779541,
                    6.28000020980835,
                    6.369999885559082,
                    6.050000190734863,
                    5.739999771118164,
                    6.170000076293945,
                    6.400000095367432,
                    6.659999847412109,
                    6.329999923706055,
                    6.420000076293945,
                    6.159999847412109,
                    6.199999809265137,
                    6.78000020980835,
                    6.829999923706055,
                    6.760000228881836,
                    7.21999979019165
                  ],
                  "high": [
                    25.57999992370605,
                    25.18000030517578,
                    24.65999984741211,
                    23.85000038146973,
                    24.29999923706055,
                    23.85000038146973,
                    24.31999969482422,
                    24.20000076293945,
                    24.15999984741211,
                    24.11000061035156,
                    24.64999961853027,
                    24.95000076293945,
                    25.53000068664551,
                    25.64999961853027,
                    26.29999923706055,
                    27.06999969482422,
                    26.38999938964844,
                    26.5,
                    26.07999992370605,
                    25.73999977111816,
                    25.72999954223633,
                    25.77000045776367,
                    26.20000076293945,
                    26.09000015258789,
                    26.39999961853027,
                    26.45000076293945,
                    26.1200008392334,
                    25.95000076293945,
                    25.97999954223633,
                    26.20999908447266,
                    25.59000015258789,
                    25.38999938964844,
                    24.52000045776367,
                    25.07999992370605,
                    25.10000038146973,
                    25.02000045776367,
                    24.95999908447266,
                    25,
                    24.60000038146973,
                    25.28000068664551,
                    25.70000076293945,
                    25.34000015258789,
                    24.77000045776367,
                    23.96999931335449,
                    25.09000015258789,
                    25.07999992370605,
                    24.89999961853027,
                    24.76000022888184,
                    24.38999938964844,
                    24.04999923706055,
                    23.85000038146973,
                    22.64999961853027,
                    22.72999954223633,
                    22.03000068664551,
                    21.51000022888184,
                    20.96999931335449,
                    20.70000076293945,
                    20.04999923706055,
                    20.31999969482422,
                    20.45999908447266,
                    21.02000045776367,
                    20.72999954223633,
                    20.71999931335449,
                    20.53000068664551,
                    21.89999961853027,
                    22.02000045776367,
                    21.93000030517578,
                    22.29000091552734,
                    22.35000038146973,
                    22.52000045776367,
                    22.25,
                    22.14999961853027,
                    21.79999923706055,
                    21.85000038146973,
                    21.72999954223633,
                    21.80999946594238,
                    21.64999961853027,
                    21.10000038146973,
                    20.67000007629395,
                    20.38999938964844,
                    20.25,
                    20.22999954223633,
                    20.09000015258789,
                    19.95000076293945,
                    19.89999961853027,
                    19.97999954223633,
                    19.38999938964844,
                    19.14999961853027,
                    19.25,
                    19.73999977111816,
                    19.21999931335449,
                    19.40999984741211,
                    19.1200008392334,
                    18.8799991607666,
                    18.78000068664551,
                    20.05999946594238,
                    20.65999984741211,
                    20.38999938964844,
                    19.84000015258789,
                    20.42000007629395,
                    20.39999961853027,
                    20.64999961853027,
                    21.26000022888184,
                    21.04999923706055,
                    20.98999977111816,
                    21.43000030517578,
                    21.09000015258789,
                    20.38999938964844,
                    20.47999954223633,
                    20.72999954223633,
                    21.18000030517578,
                    21,
                    21.3700008392334,
                    21.51000022888184,
                    21.31999969482422,
                    21.34000015258789,
                    21.21999931335449,
                    21.72999954223633,
                    21.93000030517578,
                    21.84000015258789,
                    21.69000053405762,
                    21.60000038146973,
                    21.27000045776367,
                    21.69000053405762,
                    21.60000038146973,
                    21.43000030517578,
                    22.14999961853027,
                    22.06999969482422,
                    22.39999961853027,
                    22.54000091552734,
                    22.93000030517578,
                    24.56999969482422,
                    24.34000015258789,
                    23.8799991607666,
                    23.3799991607666,
                    23.52000045776367,
                    23.52000045776367,
                    22.93000030517578,
                    22.76000022888184,
                    22.15999984741211,
                    21.78000068664551,
                    22.14999961853027,
                    21.70000076293945,
                    21.06999969482422,
                    20.64999961853027,
                    20.31999969482422,
                    20.75,
                    20.8799991607666,
                    20.8799991607666,
                    20.76000022888184,
                    20.95999908447266,
                    21.26000022888184,
                    21.17000007629395,
                    20.39999961853027,
                    19.65999984741211,
                    19.5,
                    19.07999992370605,
                    19,
                    19.04999923706055,
                    19.34000015258789,
                    19.55999946594238,
                    19.70000076293945,
                    19.14999961853027,
                    19.10000038146973,
                    19.05999946594238,
                    18.86000061035156,
                    18.65999984741211,
                    18.89999961853027,
                    19.5,
                    19.32999992370605,
                    19.42000007629395,
                    19.1200008392334,
                    18.04000091552734,
                    17.78000068664551,
                    17.1299991607666,
                    16.6200008392334,
                    16.77000045776367,
                    16.40999984741211,
                    16.61000061035156,
                    16.71999931335449,
                    16.52000045776367,
                    15.72999954223633,
                    15.72000026702881,
                    14.96000003814697,
                    14.51000022888184,
                    14.71000003814697,
                    14.71000003814697,
                    14.27999973297119,
                    14.13000011444092,
                    14.60000038146973,
                    14.84000015258789,
                    15.35000038146973,
                    15.0600004196167,
                    14.64999961853027,
                    14.63000011444092,
                    14.64999961853027,
                    14.4399995803833,
                    14.27999973297119,
                    13.89000034332275,
                    13.19999980926514,
                    12.94999980926514,
                    12.82999992370605,
                    12.35000038146973,
                    12.43000030517578,
                    11.76000022888184,
                    11.35999965667725,
                    11.43000030517578,
                    11.67000007629395,
                    11.81999969482422,
                    12.61999988555908,
                    12.65999984741211,
                    13.80000019073486,
                    13.53999996185303,
                    14.26000022888184,
                    12.77999973297119,
                    11.39999961853027,
                    10.14000034332275,
                    9.600000381469727,
                    9.869999885559082,
                    9.680000305175781,
                    9.050000190734863,
                    9.010000228881836,
                    9.039999961853027,
                    8.569999694824219,
                    8.470000267028809,
                    8.109999656677246,
                    8.100000381469727,
                    7.190000057220459,
                    7.28000020980835,
                    7.440000057220459,
                    7.71999979019165,
                    7.570000171661377,
                    6.760000228881836,
                    6.510000228881836,
                    6.71999979019165,
                    6.199999809265137,
                    6.239999771118164,
                    6.510000228881836,
                    6.730000019073486,
                    6.71999979019165,
                    6.610000133514404,
                    6.610000133514404,
                    6.340000152587891,
                    6.78000020980835,
                    6.960000038146973,
                    6.900000095367432,
                    7.409999847412109
                  ],
                  "low": [
                    24.8700008392334,
                    24.34000015258789,
                    23.42000007629395,
                    22.95000076293945,
                    23.02000045776367,
                    23.32999992370605,
                    23.25,
                    23.54999923706055,
                    23.5,
                    23.35000038146973,
                    23.90999984741211,
                    23.81999969482422,
                    24.1200008392334,
                    24.85000038146973,
                    25.10000038146973,
                    25.67000007629395,
                    25.35000038146973,
                    25.38999938964844,
                    25.03000068664551,
                    24.75,
                    25.20000076293945,
                    25.04000091552734,
                    25.15999984741211,
                    25.3799991607666,
                    25.52000045776367,
                    25.89999961853027,
                    25.11000061035156,
                    25.29999923706055,
                    25.35000038146973,
                    25.45999908447266,
                    24.79999923706055,
                    24.19000053405762,
                    23.65999984741211,
                    23.85000038146973,
                    24.20000076293945,
                    23.80999946594238,
                    23.97999954223633,
                    24.17000007629395,
                    23.59000015258789,
                    23.5,
                    24.8799991607666,
                    24.55999946594238,
                    23.10000038146973,
                    23.30999946594238,
                    23.46999931335449,
                    24.45999908447266,
                    24.27000045776367,
                    23.54999923706055,
                    23.60000038146973,
                    23.40999984741211,
                    22.06999969482422,
                    22.03000068664551,
                    21.45000076293945,
                    21.35000038146973,
                    20.20999908447266,
                    19.96999931335449,
                    19.70000076293945,
                    19.39999961853027,
                    19.42000007629395,
                    19.67000007629395,
                    20.04999923706055,
                    19.93000030517578,
                    20.05999946594238,
                    20.03000068664551,
                    20.20999908447266,
                    21.60000038146973,
                    21.61000061035156,
                    21.47999954223633,
                    21.8700008392334,
                    22.10000038146973,
                    21.76000022888184,
                    21.54000091552734,
                    21.42000007629395,
                    21.11000061035156,
                    21.1299991607666,
                    21.5,
                    20.93000030517578,
                    20.57999992370605,
                    19.90999984741211,
                    19.8700008392334,
                    19.89999961853027,
                    19.63999938964844,
                    19.68000030517578,
                    19.29999923706055,
                    19.32999992370605,
                    19.04999923706055,
                    18.65999984741211,
                    18.5,
                    18.72999954223633,
                    18.96999931335449,
                    18.72999954223633,
                    18.77000045776367,
                    18.54000091552734,
                    18.60000038146973,
                    18.25,
                    18.51000022888184,
                    20.02000045776367,
                    19.64999961853027,
                    19.46999931335449,
                    19.6200008392334,
                    19.97999954223633,
                    20.20999908447266,
                    20.25,
                    20.51000022888184,
                    20.56999969482422,
                    20.85000038146973,
                    20.21999931335449,
                    19.93000030517578,
                    19.98999977111816,
                    20.3799991607666,
                    20.47999954223633,
                    20.05999946594238,
                    20.07999992370605,
                    21.02000045776367,
                    20.8799991607666,
                    20.65999984741211,
                    20.51000022888184,
                    20.70000076293945,
                    21.05999946594238,
                    21.1200008392334,
                    21.04999923706055,
                    21.01000022888184,
                    20.42000007629395,
                    20.76000022888184,
                    21.1299991607666,
                    20.95000076293945,
                    21.28000068664551,
                    21.47999954223633,
                    21.95000076293945,
                    21.77000045776367,
                    22.51000022888184,
                    23.70999908447266,
                    23.80999946594238,
                    22.95999908447266,
                    22.70000076293945,
                    22.96999931335449,
                    23.04999923706055,
                    22.20999908447266,
                    22.02000045776367,
                    21.10000038146973,
                    21.21999931335449,
                    21.39999961853027,
                    20.54999923706055,
                    20.55999946594238,
                    19.71999931335449,
                    19.71999931335449,
                    19.98999977111816,
                    20.13999938964844,
                    20.43000030517578,
                    20.1299991607666,
                    20.14999961853027,
                    20.54000091552734,
                    19.8799991607666,
                    19.39999961853027,
                    18.70999908447266,
                    18.6299991607666,
                    18.11000061035156,
                    18.39999961853027,
                    18.06999969482422,
                    18.14999961853027,
                    19.03000068664551,
                    18.69000053405762,
                    18.76000022888184,
                    18.48999977111816,
                    18.13999938964844,
                    18.28000068664551,
                    17.86000061035156,
                    17.89999961853027,
                    18.76000022888184,
                    18.64999961853027,
                    17.95999908447266,
                    17.18000030517578,
                    17.43000030517578,
                    16.85000038146973,
                    16.48999977111816,
                    16.11000061035156,
                    15.85999965667725,
                    15.78999996185303,
                    15.81999969482422,
                    16.15999984741211,
                    15.8100004196167,
                    15.35999965667725,
                    14.92000007629395,
                    14.02000045776367,
                    13.86999988555908,
                    13.92000007629395,
                    14.06999969482422,
                    13.52999973297119,
                    13.53999996185303,
                    13.14999961853027,
                    14,
                    14.26000022888184,
                    14.35000038146973,
                    14.28999996185303,
                    14.10000038146973,
                    14.10000038146973,
                    14.02000045776367,
                    13.59000015258789,
                    13.13000011444092,
                    12.27999973297119,
                    11.85999965667725,
                    12.27000045776367,
                    11.72999954223633,
                    11.53999996185303,
                    11.06999969482422,
                    10.72999954223633,
                    10.85999965667725,
                    10.98999977111816,
                    10.93000030517578,
                    11.15999984741211,
                    11.86999988555908,
                    12.05000019073486,
                    12.81999969482422,
                    13.11999988555908,
                    11.14999961853027,
                    9.739999771118164,
                    9.1899995803833,
                    8.989999771118164,
                    8.9399995803833,
                    8.8100004196167,
                    8.470000267028809,
                    8.449999809265137,
                    8.609999656677246,
                    8.029999732971191,
                    7.980000019073486,
                    7.599999904632568,
                    6.880000114440918,
                    6.449999809265137,
                    6.71999979019165,
                    7.099999904632568,
                    7.369999885559082,
                    6.630000114440918,
                    6.210000038146973,
                    6.010000228881836,
                    6.050000190734863,
                    5.730000019073486,
                    5.619999885559082,
                    6.130000114440918,
                    6.059999942779541,
                    6.239999771118164,
                    6.21999979019165,
                    6.139999866485596,
                    5.989999771118164,
                    6.230000019073486,
                    6.639999866485596,
                    6.699999809265137,
                    6.769999980926514
                  ],
                  "open": [
                    25.26000022888184,
                    25.10000038146973,
                    24.64999961853027,
                    23.63999938964844,
                    23.19000053405762,
                    23.5,
                    23.60000038146973,
                    24.20000076293945,
                    24.14999961853027,
                    23.72999954223633,
                    24.04999923706055,
                    24.54000091552734,
                    24.18000030517578,
                    25.39999961853027,
                    25.1299991607666,
                    26.25,
                    25.71999931335449,
                    25.8700008392334,
                    25.73999977111816,
                    25.68000030517578,
                    25.29999923706055,
                    25.44000053405762,
                    25.63999938964844,
                    25.3799991607666,
                    25.85000038146973,
                    26.15999984741211,
                    26.10000038146973,
                    25.29999923706055,
                    25.52000045776367,
                    25.71999931335449,
                    25.5,
                    24.92000007629395,
                    24.22999954223633,
                    24.29999923706055,
                    24.93000030517578,
                    24.59000015258789,
                    24.07999992370605,
                    24.55999946594238,
                    24.29000091552734,
                    24.53000068664551,
                    25.11000061035156,
                    25.19000053405762,
                    24.69000053405762,
                    23.54999923706055,
                    23.75,
                    25.06999969482422,
                    24.60000038146973,
                    24.35000038146973,
                    23.81999969482422,
                    23.86000061035156,
                    23.76000022888184,
                    22.47999954223633,
                    22.39999961853027,
                    21.79999923706055,
                    21.47999954223633,
                    20.04999923706055,
                    20.39999961853027,
                    19.93000030517578,
                    19.48999977111816,
                    20.15999984741211,
                    20.28000068664551,
                    20.60000038146973,
                    20.34000015258789,
                    20.5,
                    20.22999954223633,
                    21.64999961853027,
                    21.78000068664551,
                    21.71999931335449,
                    22.35000038146973,
                    22.21999931335449,
                    22.19000053405762,
                    21.90999984741211,
                    21.63999938964844,
                    21.70999908447266,
                    21.26000022888184,
                    21.61000061035156,
                    21.60000038146973,
                    20.94000053405762,
                    20.6299991607666,
                    20.10000038146973,
                    20.11000061035156,
                    20.18000030517578,
                    19.85000038146973,
                    19.85000038146973,
                    19.57999992370605,
                    19.88999938964844,
                    19,
                    19,
                    18.80999946594238,
                    19.60000038146973,
                    19.1200008392334,
                    18.82999992370605,
                    18.76000022888184,
                    18.68000030517578,
                    18.75,
                    18.54999923706055,
                    20.20000076293945,
                    20.36000061035156,
                    19.73999977111816,
                    19.70000076293945,
                    20.26000022888184,
                    20.26000022888184,
                    20.40999984741211,
                    20.61000061035156,
                    20.94000053405762,
                    21.09000015258789,
                    21.04999923706055,
                    20.34000015258789,
                    20.28000068664551,
                    20.44000053405762,
                    20.55999946594238,
                    20.95000076293945,
                    20.29999923706055,
                    21.30999946594238,
                    21.17000007629395,
                    21.32999992370605,
                    20.95000076293945,
                    20.79999923706055,
                    21.77000045776367,
                    21.38999938964844,
                    21.53000068664551,
                    21.53000068664551,
                    21.21999931335449,
                    20.79999923706055,
                    21.5,
                    21.13999938964844,
                    21.29999923706055,
                    21.68000030517578,
                    22.05999946594238,
                    21.96999931335449,
                    22.60000038146973,
                    23.89999961853027,
                    23.81999969482422,
                    23.64999961853027,
                    23.20000076293945,
                    23.27000045776367,
                    23.38999938964844,
                    22.79999923706055,
                    22.72999954223633,
                    22.07999992370605,
                    21.59000015258789,
                    21.57999992370605,
                    21.44000053405762,
                    20.90999984741211,
                    20.60000038146973,
                    20.29000091552734,
                    20.1200008392334,
                    20.53000068664551,
                    20.56999969482422,
                    20.53000068664551,
                    20.40999984741211,
                    20.73999977111816,
                    21.10000038146973,
                    20.22999954223633,
                    19.28000068664551,
                    19.42000007629395,
                    18.57999992370605,
                    18.70000076293945,
                    19.02000045776367,
                    18.34000015258789,
                    19.1200008392334,
                    19.46999931335449,
                    18.92000007629395,
                    18.94000053405762,
                    18.75,
                    18.36000061035156,
                    18.65999984741211,
                    18.10000038146973,
                    18.86000061035156,
                    19.25,
                    18.89999961853027,
                    19.05999946594238,
                    17.59000015258789,
                    17.54000091552734,
                    17.07999992370605,
                    16.45000076293945,
                    16.30999946594238,
                    16.23999977111816,
                    16.15999984741211,
                    16.60000038146973,
                    16.39999961853027,
                    15.68000030517578,
                    15.52000045776367,
                    14.8100004196167,
                    14.30000019073486,
                    13.97999954223633,
                    14.39999961853027,
                    14.25,
                    13.80000019073486,
                    13.48999977111816,
                    14.60000038146973,
                    14.26000022888184,
                    15.03999996185303,
                    14.42000007629395,
                    14.60000038146973,
                    14.21000003814697,
                    14.39000034332275,
                    14.10999965667725,
                    13.84000015258789,
                    12.89000034332275,
                    12.35000038146973,
                    12.48999977111816,
                    12.28999996185303,
                    12.06999969482422,
                    11.48999977111816,
                    11.23999977111816,
                    10.86999988555908,
                    11.1899995803833,
                    11.5,
                    11.22000026702881,
                    12.3100004196167,
                    12.05000019073486,
                    13.19999980926514,
                    13.30000019073486,
                    12.64999961853027,
                    11.1899995803833,
                    9.90999984741211,
                    9.359999656677246,
                    9.050000190734863,
                    9.399999618530273,
                    9,
                    8.5,
                    8.84000015258789,
                    8.479999542236328,
                    8.1899995803833,
                    7.989999771118164,
                    8.050000190734863,
                    6.949999809265137,
                    6.78000020980835,
                    7.150000095367432,
                    7.489999771118164,
                    7.559999942779541,
                    6.760000228881836,
                    6.429999828338623,
                    6.380000114440918,
                    6.150000095367432,
                    5.710000038146973,
                    6.28000020980835,
                    6.190000057220459,
                    6.420000076293945,
                    6.420000076293945,
                    6.420000076293945,
                    6.21999979019165,
                    6.230000019073486,
                    6.789999961853027,
                    6.840000152587891,
                    6.800000190734863
                  ],
                  "type": "candlestick",
                  "x": [
                    "2021-01-04T00:00:00",
                    "2021-01-05T00:00:00",
                    "2021-01-06T00:00:00",
                    "2021-01-07T00:00:00",
                    "2021-01-08T00:00:00",
                    "2021-01-11T00:00:00",
                    "2021-01-12T00:00:00",
                    "2021-01-13T00:00:00",
                    "2021-01-14T00:00:00",
                    "2021-01-15T00:00:00",
                    "2021-01-18T00:00:00",
                    "2021-01-19T00:00:00",
                    "2021-01-20T00:00:00",
                    "2021-01-21T00:00:00",
                    "2021-01-22T00:00:00",
                    "2021-01-26T00:00:00",
                    "2021-01-27T00:00:00",
                    "2021-01-28T00:00:00",
                    "2021-01-29T00:00:00",
                    "2021-02-01T00:00:00",
                    "2021-02-02T00:00:00",
                    "2021-02-03T00:00:00",
                    "2021-02-04T00:00:00",
                    "2021-02-05T00:00:00",
                    "2021-02-08T00:00:00",
                    "2021-02-09T00:00:00",
                    "2021-02-10T00:00:00",
                    "2021-02-11T00:00:00",
                    "2021-02-12T00:00:00",
                    "2021-02-17T00:00:00",
                    "2021-02-18T00:00:00",
                    "2021-02-19T00:00:00",
                    "2021-02-22T00:00:00",
                    "2021-02-23T00:00:00",
                    "2021-02-24T00:00:00",
                    "2021-02-25T00:00:00",
                    "2021-02-26T00:00:00",
                    "2021-03-01T00:00:00",
                    "2021-03-02T00:00:00",
                    "2021-03-03T00:00:00",
                    "2021-03-04T00:00:00",
                    "2021-03-05T00:00:00",
                    "2021-03-08T00:00:00",
                    "2021-03-09T00:00:00",
                    "2021-03-10T00:00:00",
                    "2021-03-11T00:00:00",
                    "2021-03-12T00:00:00",
                    "2021-03-15T00:00:00",
                    "2021-03-16T00:00:00",
                    "2021-03-17T00:00:00",
                    "2021-03-18T00:00:00",
                    "2021-03-19T00:00:00",
                    "2021-03-22T00:00:00",
                    "2021-03-23T00:00:00",
                    "2021-03-24T00:00:00",
                    "2021-03-25T00:00:00",
                    "2021-03-26T00:00:00",
                    "2021-03-29T00:00:00",
                    "2021-03-30T00:00:00",
                    "2021-03-31T00:00:00",
                    "2021-04-01T00:00:00",
                    "2021-04-05T00:00:00",
                    "2021-04-06T00:00:00",
                    "2021-04-07T00:00:00",
                    "2021-04-08T00:00:00",
                    "2021-04-09T00:00:00",
                    "2021-04-12T00:00:00",
                    "2021-04-13T00:00:00",
                    "2021-04-14T00:00:00",
                    "2021-04-15T00:00:00",
                    "2021-04-16T00:00:00",
                    "2021-04-19T00:00:00",
                    "2021-04-20T00:00:00",
                    "2021-04-22T00:00:00",
                    "2021-04-23T00:00:00",
                    "2021-04-26T00:00:00",
                    "2021-04-27T00:00:00",
                    "2021-04-28T00:00:00",
                    "2021-04-29T00:00:00",
                    "2021-04-30T00:00:00",
                    "2021-05-03T00:00:00",
                    "2021-05-04T00:00:00",
                    "2021-05-05T00:00:00",
                    "2021-05-06T00:00:00",
                    "2021-05-07T00:00:00",
                    "2021-05-10T00:00:00",
                    "2021-05-11T00:00:00",
                    "2021-05-12T00:00:00",
                    "2021-05-13T00:00:00",
                    "2021-05-14T00:00:00",
                    "2021-05-17T00:00:00",
                    "2021-05-18T00:00:00",
                    "2021-05-19T00:00:00",
                    "2021-05-20T00:00:00",
                    "2021-05-21T00:00:00",
                    "2021-05-24T00:00:00",
                    "2021-05-25T00:00:00",
                    "2021-05-26T00:00:00",
                    "2021-05-27T00:00:00",
                    "2021-05-28T00:00:00",
                    "2021-05-31T00:00:00",
                    "2021-06-01T00:00:00",
                    "2021-06-02T00:00:00",
                    "2021-06-04T00:00:00",
                    "2021-06-07T00:00:00",
                    "2021-06-08T00:00:00",
                    "2021-06-09T00:00:00",
                    "2021-06-10T00:00:00",
                    "2021-06-11T00:00:00",
                    "2021-06-14T00:00:00",
                    "2021-06-15T00:00:00",
                    "2021-06-16T00:00:00",
                    "2021-06-17T00:00:00",
                    "2021-06-18T00:00:00",
                    "2021-06-21T00:00:00",
                    "2021-06-22T00:00:00",
                    "2021-06-23T00:00:00",
                    "2021-06-24T00:00:00",
                    "2021-06-25T00:00:00",
                    "2021-06-28T00:00:00",
                    "2021-06-29T00:00:00",
                    "2021-06-30T00:00:00",
                    "2021-07-01T00:00:00",
                    "2021-07-02T00:00:00",
                    "2021-07-05T00:00:00",
                    "2021-07-06T00:00:00",
                    "2021-07-07T00:00:00",
                    "2021-07-08T00:00:00",
                    "2021-07-12T00:00:00",
                    "2021-07-13T00:00:00",
                    "2021-07-14T00:00:00",
                    "2021-07-15T00:00:00",
                    "2021-07-16T00:00:00",
                    "2021-07-19T00:00:00",
                    "2021-07-20T00:00:00",
                    "2021-07-21T00:00:00",
                    "2021-07-22T00:00:00",
                    "2021-07-23T00:00:00",
                    "2021-07-26T00:00:00",
                    "2021-07-27T00:00:00",
                    "2021-07-28T00:00:00",
                    "2021-07-29T00:00:00",
                    "2021-07-30T00:00:00",
                    "2021-08-02T00:00:00",
                    "2021-08-03T00:00:00",
                    "2021-08-04T00:00:00",
                    "2021-08-05T00:00:00",
                    "2021-08-06T00:00:00",
                    "2021-08-09T00:00:00",
                    "2021-08-10T00:00:00",
                    "2021-08-11T00:00:00",
                    "2021-08-12T00:00:00",
                    "2021-08-13T00:00:00",
                    "2021-08-16T00:00:00",
                    "2021-08-17T00:00:00",
                    "2021-08-18T00:00:00",
                    "2021-08-19T00:00:00",
                    "2021-08-20T00:00:00",
                    "2021-08-23T00:00:00",
                    "2021-08-24T00:00:00",
                    "2021-08-25T00:00:00",
                    "2021-08-26T00:00:00",
                    "2021-08-27T00:00:00",
                    "2021-08-30T00:00:00",
                    "2021-08-31T00:00:00",
                    "2021-09-01T00:00:00",
                    "2021-09-02T00:00:00",
                    "2021-09-03T00:00:00",
                    "2021-09-06T00:00:00",
                    "2021-09-08T00:00:00",
                    "2021-09-09T00:00:00",
                    "2021-09-10T00:00:00",
                    "2021-09-13T00:00:00",
                    "2021-09-14T00:00:00",
                    "2021-09-15T00:00:00",
                    "2021-09-16T00:00:00",
                    "2021-09-17T00:00:00",
                    "2021-09-20T00:00:00",
                    "2021-09-21T00:00:00",
                    "2021-09-22T00:00:00",
                    "2021-09-23T00:00:00",
                    "2021-09-24T00:00:00",
                    "2021-09-27T00:00:00",
                    "2021-09-28T00:00:00",
                    "2021-09-29T00:00:00",
                    "2021-09-30T00:00:00",
                    "2021-10-01T00:00:00",
                    "2021-10-04T00:00:00",
                    "2021-10-05T00:00:00",
                    "2021-10-06T00:00:00",
                    "2021-10-07T00:00:00",
                    "2021-10-08T00:00:00",
                    "2021-10-11T00:00:00",
                    "2021-10-13T00:00:00",
                    "2021-10-14T00:00:00",
                    "2021-10-15T00:00:00",
                    "2021-10-18T00:00:00",
                    "2021-10-19T00:00:00",
                    "2021-10-20T00:00:00",
                    "2021-10-21T00:00:00",
                    "2021-10-22T00:00:00",
                    "2021-10-25T00:00:00",
                    "2021-10-26T00:00:00",
                    "2021-10-27T00:00:00",
                    "2021-10-28T00:00:00",
                    "2021-10-29T00:00:00",
                    "2021-11-01T00:00:00",
                    "2021-11-03T00:00:00",
                    "2021-11-04T00:00:00",
                    "2021-11-05T00:00:00",
                    "2021-11-08T00:00:00",
                    "2021-11-09T00:00:00",
                    "2021-11-10T00:00:00",
                    "2021-11-11T00:00:00",
                    "2021-11-12T00:00:00",
                    "2021-11-16T00:00:00",
                    "2021-11-17T00:00:00",
                    "2021-11-18T00:00:00",
                    "2021-11-19T00:00:00",
                    "2021-11-22T00:00:00",
                    "2021-11-23T00:00:00",
                    "2021-11-24T00:00:00",
                    "2021-11-25T00:00:00",
                    "2021-11-26T00:00:00",
                    "2021-11-29T00:00:00",
                    "2021-11-30T00:00:00",
                    "2021-12-01T00:00:00",
                    "2021-12-02T00:00:00",
                    "2021-12-03T00:00:00",
                    "2021-12-06T00:00:00",
                    "2021-12-07T00:00:00",
                    "2021-12-08T00:00:00",
                    "2021-12-09T00:00:00",
                    "2021-12-10T00:00:00",
                    "2021-12-13T00:00:00",
                    "2021-12-14T00:00:00",
                    "2021-12-15T00:00:00",
                    "2021-12-16T00:00:00",
                    "2021-12-17T00:00:00",
                    "2021-12-20T00:00:00",
                    "2021-12-21T00:00:00",
                    "2021-12-22T00:00:00",
                    "2021-12-23T00:00:00",
                    "2021-12-27T00:00:00",
                    "2021-12-28T00:00:00",
                    "2021-12-29T00:00:00",
                    "2021-12-30T00:00:00"
                  ]
                }
              ],
              "layout": {
                "template": {
                  "data": {
                    "bar": [
                      {
                        "error_x": {
                          "color": "#2a3f5f"
                        },
                        "error_y": {
                          "color": "#2a3f5f"
                        },
                        "marker": {
                          "line": {
                            "color": "#E5ECF6",
                            "width": 0.5
                          },
                          "pattern": {
                            "fillmode": "overlay",
                            "size": 10,
                            "solidity": 0.2
                          }
                        },
                        "type": "bar"
                      }
                    ],
                    "barpolar": [
                      {
                        "marker": {
                          "line": {
                            "color": "#E5ECF6",
                            "width": 0.5
                          },
                          "pattern": {
                            "fillmode": "overlay",
                            "size": 10,
                            "solidity": 0.2
                          }
                        },
                        "type": "barpolar"
                      }
                    ],
                    "carpet": [
                      {
                        "aaxis": {
                          "endlinecolor": "#2a3f5f",
                          "gridcolor": "white",
                          "linecolor": "white",
                          "minorgridcolor": "white",
                          "startlinecolor": "#2a3f5f"
                        },
                        "baxis": {
                          "endlinecolor": "#2a3f5f",
                          "gridcolor": "white",
                          "linecolor": "white",
                          "minorgridcolor": "white",
                          "startlinecolor": "#2a3f5f"
                        },
                        "type": "carpet"
                      }
                    ],
                    "choropleth": [
                      {
                        "colorbar": {
                          "outlinewidth": 0,
                          "ticks": ""
                        },
                        "type": "choropleth"
                      }
                    ],
                    "contour": [
                      {
                        "colorbar": {
                          "outlinewidth": 0,
                          "ticks": ""
                        },
                        "colorscale": [
                          [
                            0,
                            "#0d0887"
                          ],
                          [
                            0.1111111111111111,
                            "#46039f"
                          ],
                          [
                            0.2222222222222222,
                            "#7201a8"
                          ],
                          [
                            0.3333333333333333,
                            "#9c179e"
                          ],
                          [
                            0.4444444444444444,
                            "#bd3786"
                          ],
                          [
                            0.5555555555555556,
                            "#d8576b"
                          ],
                          [
                            0.6666666666666666,
                            "#ed7953"
                          ],
                          [
                            0.7777777777777778,
                            "#fb9f3a"
                          ],
                          [
                            0.8888888888888888,
                            "#fdca26"
                          ],
                          [
                            1,
                            "#f0f921"
                          ]
                        ],
                        "type": "contour"
                      }
                    ],
                    "contourcarpet": [
                      {
                        "colorbar": {
                          "outlinewidth": 0,
                          "ticks": ""
                        },
                        "type": "contourcarpet"
                      }
                    ],
                    "heatmap": [
                      {
                        "colorbar": {
                          "outlinewidth": 0,
                          "ticks": ""
                        },
                        "colorscale": [
                          [
                            0,
                            "#0d0887"
                          ],
                          [
                            0.1111111111111111,
                            "#46039f"
                          ],
                          [
                            0.2222222222222222,
                            "#7201a8"
                          ],
                          [
                            0.3333333333333333,
                            "#9c179e"
                          ],
                          [
                            0.4444444444444444,
                            "#bd3786"
                          ],
                          [
                            0.5555555555555556,
                            "#d8576b"
                          ],
                          [
                            0.6666666666666666,
                            "#ed7953"
                          ],
                          [
                            0.7777777777777778,
                            "#fb9f3a"
                          ],
                          [
                            0.8888888888888888,
                            "#fdca26"
                          ],
                          [
                            1,
                            "#f0f921"
                          ]
                        ],
                        "type": "heatmap"
                      }
                    ],
                    "heatmapgl": [
                      {
                        "colorbar": {
                          "outlinewidth": 0,
                          "ticks": ""
                        },
                        "colorscale": [
                          [
                            0,
                            "#0d0887"
                          ],
                          [
                            0.1111111111111111,
                            "#46039f"
                          ],
                          [
                            0.2222222222222222,
                            "#7201a8"
                          ],
                          [
                            0.3333333333333333,
                            "#9c179e"
                          ],
                          [
                            0.4444444444444444,
                            "#bd3786"
                          ],
                          [
                            0.5555555555555556,
                            "#d8576b"
                          ],
                          [
                            0.6666666666666666,
                            "#ed7953"
                          ],
                          [
                            0.7777777777777778,
                            "#fb9f3a"
                          ],
                          [
                            0.8888888888888888,
                            "#fdca26"
                          ],
                          [
                            1,
                            "#f0f921"
                          ]
                        ],
                        "type": "heatmapgl"
                      }
                    ],
                    "histogram": [
                      {
                        "marker": {
                          "pattern": {
                            "fillmode": "overlay",
                            "size": 10,
                            "solidity": 0.2
                          }
                        },
                        "type": "histogram"
                      }
                    ],
                    "histogram2d": [
                      {
                        "colorbar": {
                          "outlinewidth": 0,
                          "ticks": ""
                        },
                        "colorscale": [
                          [
                            0,
                            "#0d0887"
                          ],
                          [
                            0.1111111111111111,
                            "#46039f"
                          ],
                          [
                            0.2222222222222222,
                            "#7201a8"
                          ],
                          [
                            0.3333333333333333,
                            "#9c179e"
                          ],
                          [
                            0.4444444444444444,
                            "#bd3786"
                          ],
                          [
                            0.5555555555555556,
                            "#d8576b"
                          ],
                          [
                            0.6666666666666666,
                            "#ed7953"
                          ],
                          [
                            0.7777777777777778,
                            "#fb9f3a"
                          ],
                          [
                            0.8888888888888888,
                            "#fdca26"
                          ],
                          [
                            1,
                            "#f0f921"
                          ]
                        ],
                        "type": "histogram2d"
                      }
                    ],
                    "histogram2dcontour": [
                      {
                        "colorbar": {
                          "outlinewidth": 0,
                          "ticks": ""
                        },
                        "colorscale": [
                          [
                            0,
                            "#0d0887"
                          ],
                          [
                            0.1111111111111111,
                            "#46039f"
                          ],
                          [
                            0.2222222222222222,
                            "#7201a8"
                          ],
                          [
                            0.3333333333333333,
                            "#9c179e"
                          ],
                          [
                            0.4444444444444444,
                            "#bd3786"
                          ],
                          [
                            0.5555555555555556,
                            "#d8576b"
                          ],
                          [
                            0.6666666666666666,
                            "#ed7953"
                          ],
                          [
                            0.7777777777777778,
                            "#fb9f3a"
                          ],
                          [
                            0.8888888888888888,
                            "#fdca26"
                          ],
                          [
                            1,
                            "#f0f921"
                          ]
                        ],
                        "type": "histogram2dcontour"
                      }
                    ],
                    "mesh3d": [
                      {
                        "colorbar": {
                          "outlinewidth": 0,
                          "ticks": ""
                        },
                        "type": "mesh3d"
                      }
                    ],
                    "parcoords": [
                      {
                        "line": {
                          "colorbar": {
                            "outlinewidth": 0,
                            "ticks": ""
                          }
                        },
                        "type": "parcoords"
                      }
                    ],
                    "pie": [
                      {
                        "automargin": true,
                        "type": "pie"
                      }
                    ],
                    "scatter": [
                      {
                        "fillpattern": {
                          "fillmode": "overlay",
                          "size": 10,
                          "solidity": 0.2
                        },
                        "type": "scatter"
                      }
                    ],
                    "scatter3d": [
                      {
                        "line": {
                          "colorbar": {
                            "outlinewidth": 0,
                            "ticks": ""
                          }
                        },
                        "marker": {
                          "colorbar": {
                            "outlinewidth": 0,
                            "ticks": ""
                          }
                        },
                        "type": "scatter3d"
                      }
                    ],
                    "scattercarpet": [
                      {
                        "marker": {
                          "colorbar": {
                            "outlinewidth": 0,
                            "ticks": ""
                          }
                        },
                        "type": "scattercarpet"
                      }
                    ],
                    "scattergeo": [
                      {
                        "marker": {
                          "colorbar": {
                            "outlinewidth": 0,
                            "ticks": ""
                          }
                        },
                        "type": "scattergeo"
                      }
                    ],
                    "scattergl": [
                      {
                        "marker": {
                          "colorbar": {
                            "outlinewidth": 0,
                            "ticks": ""
                          }
                        },
                        "type": "scattergl"
                      }
                    ],
                    "scattermapbox": [
                      {
                        "marker": {
                          "colorbar": {
                            "outlinewidth": 0,
                            "ticks": ""
                          }
                        },
                        "type": "scattermapbox"
                      }
                    ],
                    "scatterpolar": [
                      {
                        "marker": {
                          "colorbar": {
                            "outlinewidth": 0,
                            "ticks": ""
                          }
                        },
                        "type": "scatterpolar"
                      }
                    ],
                    "scatterpolargl": [
                      {
                        "marker": {
                          "colorbar": {
                            "outlinewidth": 0,
                            "ticks": ""
                          }
                        },
                        "type": "scatterpolargl"
                      }
                    ],
                    "scatterternary": [
                      {
                        "marker": {
                          "colorbar": {
                            "outlinewidth": 0,
                            "ticks": ""
                          }
                        },
                        "type": "scatterternary"
                      }
                    ],
                    "surface": [
                      {
                        "colorbar": {
                          "outlinewidth": 0,
                          "ticks": ""
                        },
                        "colorscale": [
                          [
                            0,
                            "#0d0887"
                          ],
                          [
                            0.1111111111111111,
                            "#46039f"
                          ],
                          [
                            0.2222222222222222,
                            "#7201a8"
                          ],
                          [
                            0.3333333333333333,
                            "#9c179e"
                          ],
                          [
                            0.4444444444444444,
                            "#bd3786"
                          ],
                          [
                            0.5555555555555556,
                            "#d8576b"
                          ],
                          [
                            0.6666666666666666,
                            "#ed7953"
                          ],
                          [
                            0.7777777777777778,
                            "#fb9f3a"
                          ],
                          [
                            0.8888888888888888,
                            "#fdca26"
                          ],
                          [
                            1,
                            "#f0f921"
                          ]
                        ],
                        "type": "surface"
                      }
                    ],
                    "table": [
                      {
                        "cells": {
                          "fill": {
                            "color": "#EBF0F8"
                          },
                          "line": {
                            "color": "white"
                          }
                        },
                        "header": {
                          "fill": {
                            "color": "#C8D4E3"
                          },
                          "line": {
                            "color": "white"
                          }
                        },
                        "type": "table"
                      }
                    ]
                  },
                  "layout": {
                    "annotationdefaults": {
                      "arrowcolor": "#2a3f5f",
                      "arrowhead": 0,
                      "arrowwidth": 1
                    },
                    "autotypenumbers": "strict",
                    "coloraxis": {
                      "colorbar": {
                        "outlinewidth": 0,
                        "ticks": ""
                      }
                    },
                    "colorscale": {
                      "diverging": [
                        [
                          0,
                          "#8e0152"
                        ],
                        [
                          0.1,
                          "#c51b7d"
                        ],
                        [
                          0.2,
                          "#de77ae"
                        ],
                        [
                          0.3,
                          "#f1b6da"
                        ],
                        [
                          0.4,
                          "#fde0ef"
                        ],
                        [
                          0.5,
                          "#f7f7f7"
                        ],
                        [
                          0.6,
                          "#e6f5d0"
                        ],
                        [
                          0.7,
                          "#b8e186"
                        ],
                        [
                          0.8,
                          "#7fbc41"
                        ],
                        [
                          0.9,
                          "#4d9221"
                        ],
                        [
                          1,
                          "#276419"
                        ]
                      ],
                      "sequential": [
                        [
                          0,
                          "#0d0887"
                        ],
                        [
                          0.1111111111111111,
                          "#46039f"
                        ],
                        [
                          0.2222222222222222,
                          "#7201a8"
                        ],
                        [
                          0.3333333333333333,
                          "#9c179e"
                        ],
                        [
                          0.4444444444444444,
                          "#bd3786"
                        ],
                        [
                          0.5555555555555556,
                          "#d8576b"
                        ],
                        [
                          0.6666666666666666,
                          "#ed7953"
                        ],
                        [
                          0.7777777777777778,
                          "#fb9f3a"
                        ],
                        [
                          0.8888888888888888,
                          "#fdca26"
                        ],
                        [
                          1,
                          "#f0f921"
                        ]
                      ],
                      "sequentialminus": [
                        [
                          0,
                          "#0d0887"
                        ],
                        [
                          0.1111111111111111,
                          "#46039f"
                        ],
                        [
                          0.2222222222222222,
                          "#7201a8"
                        ],
                        [
                          0.3333333333333333,
                          "#9c179e"
                        ],
                        [
                          0.4444444444444444,
                          "#bd3786"
                        ],
                        [
                          0.5555555555555556,
                          "#d8576b"
                        ],
                        [
                          0.6666666666666666,
                          "#ed7953"
                        ],
                        [
                          0.7777777777777778,
                          "#fb9f3a"
                        ],
                        [
                          0.8888888888888888,
                          "#fdca26"
                        ],
                        [
                          1,
                          "#f0f921"
                        ]
                      ]
                    },
                    "colorway": [
                      "#636efa",
                      "#EF553B",
                      "#00cc96",
                      "#ab63fa",
                      "#FFA15A",
                      "#19d3f3",
                      "#FF6692",
                      "#B6E880",
                      "#FF97FF",
                      "#FECB52"
                    ],
                    "font": {
                      "color": "#2a3f5f"
                    },
                    "geo": {
                      "bgcolor": "white",
                      "lakecolor": "white",
                      "landcolor": "#E5ECF6",
                      "showlakes": true,
                      "showland": true,
                      "subunitcolor": "white"
                    },
                    "hoverlabel": {
                      "align": "left"
                    },
                    "hovermode": "closest",
                    "mapbox": {
                      "style": "light"
                    },
                    "paper_bgcolor": "white",
                    "plot_bgcolor": "#E5ECF6",
                    "polar": {
                      "angularaxis": {
                        "gridcolor": "white",
                        "linecolor": "white",
                        "ticks": ""
                      },
                      "bgcolor": "#E5ECF6",
                      "radialaxis": {
                        "gridcolor": "white",
                        "linecolor": "white",
                        "ticks": ""
                      }
                    },
                    "scene": {
                      "xaxis": {
                        "backgroundcolor": "#E5ECF6",
                        "gridcolor": "white",
                        "gridwidth": 2,
                        "linecolor": "white",
                        "showbackground": true,
                        "ticks": "",
                        "zerolinecolor": "white"
                      },
                      "yaxis": {
                        "backgroundcolor": "#E5ECF6",
                        "gridcolor": "white",
                        "gridwidth": 2,
                        "linecolor": "white",
                        "showbackground": true,
                        "ticks": "",
                        "zerolinecolor": "white"
                      },
                      "zaxis": {
                        "backgroundcolor": "#E5ECF6",
                        "gridcolor": "white",
                        "gridwidth": 2,
                        "linecolor": "white",
                        "showbackground": true,
                        "ticks": "",
                        "zerolinecolor": "white"
                      }
                    },
                    "shapedefaults": {
                      "line": {
                        "color": "#2a3f5f"
                      }
                    },
                    "ternary": {
                      "aaxis": {
                        "gridcolor": "white",
                        "linecolor": "white",
                        "ticks": ""
                      },
                      "baxis": {
                        "gridcolor": "white",
                        "linecolor": "white",
                        "ticks": ""
                      },
                      "bgcolor": "#E5ECF6",
                      "caxis": {
                        "gridcolor": "white",
                        "linecolor": "white",
                        "ticks": ""
                      }
                    },
                    "title": {
                      "x": 0.05
                    },
                    "xaxis": {
                      "automargin": true,
                      "gridcolor": "white",
                      "linecolor": "white",
                      "ticks": "",
                      "title": {
                        "standoff": 15
                      },
                      "zerolinecolor": "white",
                      "zerolinewidth": 2
                    },
                    "yaxis": {
                      "automargin": true,
                      "gridcolor": "white",
                      "linecolor": "white",
                      "ticks": "",
                      "title": {
                        "standoff": 15
                      },
                      "zerolinecolor": "white",
                      "zerolinewidth": 2
                    }
                  }
                },
                "xaxis": {
                  "rangeslider": {
                    "visible": false
                  }
                }
              }
            }
          },
          "metadata": {},
          "output_type": "display_data"
        }
      ],
      "source": [
        "# \n",
        "Grafico = go.Figure(\n",
        "    data=[\n",
        "          go.Candlestick(\n",
        "              x= Dados.index,\n",
        "              open = Dados['Abertura'],\n",
        "              high = Dados['Maior'],\n",
        "              low = Dados['Menor'],\n",
        "              close = Dados['Fechamento'],\n",
        "          )\n",
        "    ]\n",
        ")\n",
        "\n",
        "Grafico.update_layout( xaxis_rangeslider_visible=False )\n",
        "\n",
        "Grafico.show()"
      ]
    }
  ],
  "metadata": {
    "colab": {
      "collapsed_sections": [],
      "provenance": []
    },
    "kernelspec": {
      "display_name": "Python 3.10.6 64-bit",
      "language": "python",
      "name": "python3"
    },
    "language_info": {
      "codemirror_mode": {
        "name": "ipython",
        "version": 3
      },
      "file_extension": ".py",
      "mimetype": "text/x-python",
      "name": "python",
      "nbconvert_exporter": "python",
      "pygments_lexer": "ipython3",
      "version": "3.10.6"
    },
    "vscode": {
      "interpreter": {
        "hash": "1cab1a4a3df29298fbbfcedd59eed64fa8d909ec00ea82cf0cc23de67c47ff8b"
      }
    }
  },
  "nbformat": 4,
  "nbformat_minor": 0
}
